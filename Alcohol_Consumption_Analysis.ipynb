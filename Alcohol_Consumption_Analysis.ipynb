{
  "nbformat": 4,
  "nbformat_minor": 0,
  "metadata": {
    "colab": {
      "provenance": [],
      "collapsed_sections": []
    },
    "kernelspec": {
      "name": "python3",
      "display_name": "Python 3"
    },
    "language_info": {
      "name": "python"
    }
  },
  "cells": [
    {
      "cell_type": "code",
      "execution_count": 150,
      "metadata": {
        "colab": {
          "base_uri": "https://localhost:8080/"
        },
        "id": "cFfFZ06T2mtQ",
        "outputId": "6803c3b9-762c-4966-a921-c639c327f343"
      },
      "outputs": [
        {
          "output_type": "stream",
          "name": "stdout",
          "text": [
            "<class 'pandas.core.frame.DataFrame'>\n",
            "RangeIndex: 111 entries, 0 to 110\n",
            "Data columns (total 4 columns):\n",
            " #   Column                                                Non-Null Count  Dtype  \n",
            "---  ------                                                --------------  -----  \n",
            " 0   States/UTs                                            111 non-null    object \n",
            " 1   Area                                                  111 non-null    object \n",
            " 2   Women age 15 years and above who consume alcohol (%)  111 non-null    float64\n",
            " 3   Men age 15 years and above who consume alcohol (%)    111 non-null    float64\n",
            "dtypes: float64(2), object(2)\n",
            "memory usage: 3.6+ KB\n"
          ]
        }
      ],
      "source": [
        "import pandas as pd\n",
        "data = pd.read_csv('/content/Alcohol_consumption_Indian_State_2021_.csv')\n",
        "data.info()\n"
      ]
    },
    {
      "cell_type": "code",
      "source": [
        "data.drop(data[(data['Area'] == \"Total\") ].index, inplace=True)\n",
        "data.drop(['Women age 15 years and above who consume alcohol (%)'],axis=1,inplace=True)"
      ],
      "metadata": {
        "id": "tz0txSxW6Pcv"
      },
      "execution_count": 151,
      "outputs": []
    },
    {
      "cell_type": "code",
      "source": [
        "data.isnull().sum()"
      ],
      "metadata": {
        "colab": {
          "base_uri": "https://localhost:8080/"
        },
        "id": "gyTKkNGu3XhJ",
        "outputId": "f1e33ba5-3d39-4d28-d9ae-c716712b6396"
      },
      "execution_count": 152,
      "outputs": [
        {
          "output_type": "execute_result",
          "data": {
            "text/plain": [
              "States/UTs                                            0\n",
              "Area                                                  0\n",
              "Men age 15 years and above who consume alcohol (%)    0\n",
              "dtype: int64"
            ]
          },
          "metadata": {},
          "execution_count": 152
        }
      ]
    },
    {
      "cell_type": "code",
      "source": [
        "data"
      ],
      "metadata": {
        "colab": {
          "base_uri": "https://localhost:8080/",
          "height": 424
        },
        "id": "-irvf18D3aoF",
        "outputId": "0b674c06-0221-4405-e7be-9a39e2e18956"
      },
      "execution_count": 153,
      "outputs": [
        {
          "output_type": "execute_result",
          "data": {
            "text/plain": [
              "                    States/UTs   Area  \\\n",
              "0                        India  Urban   \n",
              "1                        India  Rural   \n",
              "3    Andaman & Nicobar Islands  Urban   \n",
              "4    Andaman & Nicobar Islands  Rural   \n",
              "6               Andhra Pradesh  Urban   \n",
              "..                         ...    ...   \n",
              "103              Uttar Pradesh  Rural   \n",
              "105                Uttarakhand  Urban   \n",
              "106                Uttarakhand  Rural   \n",
              "108                West Bengal  Urban   \n",
              "109                West Bengal  Rural   \n",
              "\n",
              "     Men age 15 years and above who consume alcohol (%)  \n",
              "0                                                 16.5   \n",
              "1                                                 19.9   \n",
              "3                                                 33.8   \n",
              "4                                                 41.9   \n",
              "6                                                 20.4   \n",
              "..                                                 ...   \n",
              "103                                               15.1   \n",
              "105                                               21.7   \n",
              "106                                               27.5   \n",
              "108                                               18.9   \n",
              "109                                               17.7   \n",
              "\n",
              "[74 rows x 3 columns]"
            ],
            "text/html": [
              "\n",
              "  <div id=\"df-a834a90c-b952-46e5-839b-556c591063c0\">\n",
              "    <div class=\"colab-df-container\">\n",
              "      <div>\n",
              "<style scoped>\n",
              "    .dataframe tbody tr th:only-of-type {\n",
              "        vertical-align: middle;\n",
              "    }\n",
              "\n",
              "    .dataframe tbody tr th {\n",
              "        vertical-align: top;\n",
              "    }\n",
              "\n",
              "    .dataframe thead th {\n",
              "        text-align: right;\n",
              "    }\n",
              "</style>\n",
              "<table border=\"1\" class=\"dataframe\">\n",
              "  <thead>\n",
              "    <tr style=\"text-align: right;\">\n",
              "      <th></th>\n",
              "      <th>States/UTs</th>\n",
              "      <th>Area</th>\n",
              "      <th>Men age 15 years and above who consume alcohol (%)</th>\n",
              "    </tr>\n",
              "  </thead>\n",
              "  <tbody>\n",
              "    <tr>\n",
              "      <th>0</th>\n",
              "      <td>India</td>\n",
              "      <td>Urban</td>\n",
              "      <td>16.5</td>\n",
              "    </tr>\n",
              "    <tr>\n",
              "      <th>1</th>\n",
              "      <td>India</td>\n",
              "      <td>Rural</td>\n",
              "      <td>19.9</td>\n",
              "    </tr>\n",
              "    <tr>\n",
              "      <th>3</th>\n",
              "      <td>Andaman &amp; Nicobar Islands</td>\n",
              "      <td>Urban</td>\n",
              "      <td>33.8</td>\n",
              "    </tr>\n",
              "    <tr>\n",
              "      <th>4</th>\n",
              "      <td>Andaman &amp; Nicobar Islands</td>\n",
              "      <td>Rural</td>\n",
              "      <td>41.9</td>\n",
              "    </tr>\n",
              "    <tr>\n",
              "      <th>6</th>\n",
              "      <td>Andhra Pradesh</td>\n",
              "      <td>Urban</td>\n",
              "      <td>20.4</td>\n",
              "    </tr>\n",
              "    <tr>\n",
              "      <th>...</th>\n",
              "      <td>...</td>\n",
              "      <td>...</td>\n",
              "      <td>...</td>\n",
              "    </tr>\n",
              "    <tr>\n",
              "      <th>103</th>\n",
              "      <td>Uttar Pradesh</td>\n",
              "      <td>Rural</td>\n",
              "      <td>15.1</td>\n",
              "    </tr>\n",
              "    <tr>\n",
              "      <th>105</th>\n",
              "      <td>Uttarakhand</td>\n",
              "      <td>Urban</td>\n",
              "      <td>21.7</td>\n",
              "    </tr>\n",
              "    <tr>\n",
              "      <th>106</th>\n",
              "      <td>Uttarakhand</td>\n",
              "      <td>Rural</td>\n",
              "      <td>27.5</td>\n",
              "    </tr>\n",
              "    <tr>\n",
              "      <th>108</th>\n",
              "      <td>West Bengal</td>\n",
              "      <td>Urban</td>\n",
              "      <td>18.9</td>\n",
              "    </tr>\n",
              "    <tr>\n",
              "      <th>109</th>\n",
              "      <td>West Bengal</td>\n",
              "      <td>Rural</td>\n",
              "      <td>17.7</td>\n",
              "    </tr>\n",
              "  </tbody>\n",
              "</table>\n",
              "<p>74 rows × 3 columns</p>\n",
              "</div>\n",
              "      <button class=\"colab-df-convert\" onclick=\"convertToInteractive('df-a834a90c-b952-46e5-839b-556c591063c0')\"\n",
              "              title=\"Convert this dataframe to an interactive table.\"\n",
              "              style=\"display:none;\">\n",
              "        \n",
              "  <svg xmlns=\"http://www.w3.org/2000/svg\" height=\"24px\"viewBox=\"0 0 24 24\"\n",
              "       width=\"24px\">\n",
              "    <path d=\"M0 0h24v24H0V0z\" fill=\"none\"/>\n",
              "    <path d=\"M18.56 5.44l.94 2.06.94-2.06 2.06-.94-2.06-.94-.94-2.06-.94 2.06-2.06.94zm-11 1L8.5 8.5l.94-2.06 2.06-.94-2.06-.94L8.5 2.5l-.94 2.06-2.06.94zm10 10l.94 2.06.94-2.06 2.06-.94-2.06-.94-.94-2.06-.94 2.06-2.06.94z\"/><path d=\"M17.41 7.96l-1.37-1.37c-.4-.4-.92-.59-1.43-.59-.52 0-1.04.2-1.43.59L10.3 9.45l-7.72 7.72c-.78.78-.78 2.05 0 2.83L4 21.41c.39.39.9.59 1.41.59.51 0 1.02-.2 1.41-.59l7.78-7.78 2.81-2.81c.8-.78.8-2.07 0-2.86zM5.41 20L4 18.59l7.72-7.72 1.47 1.35L5.41 20z\"/>\n",
              "  </svg>\n",
              "      </button>\n",
              "      \n",
              "  <style>\n",
              "    .colab-df-container {\n",
              "      display:flex;\n",
              "      flex-wrap:wrap;\n",
              "      gap: 12px;\n",
              "    }\n",
              "\n",
              "    .colab-df-convert {\n",
              "      background-color: #E8F0FE;\n",
              "      border: none;\n",
              "      border-radius: 50%;\n",
              "      cursor: pointer;\n",
              "      display: none;\n",
              "      fill: #1967D2;\n",
              "      height: 32px;\n",
              "      padding: 0 0 0 0;\n",
              "      width: 32px;\n",
              "    }\n",
              "\n",
              "    .colab-df-convert:hover {\n",
              "      background-color: #E2EBFA;\n",
              "      box-shadow: 0px 1px 2px rgba(60, 64, 67, 0.3), 0px 1px 3px 1px rgba(60, 64, 67, 0.15);\n",
              "      fill: #174EA6;\n",
              "    }\n",
              "\n",
              "    [theme=dark] .colab-df-convert {\n",
              "      background-color: #3B4455;\n",
              "      fill: #D2E3FC;\n",
              "    }\n",
              "\n",
              "    [theme=dark] .colab-df-convert:hover {\n",
              "      background-color: #434B5C;\n",
              "      box-shadow: 0px 1px 3px 1px rgba(0, 0, 0, 0.15);\n",
              "      filter: drop-shadow(0px 1px 2px rgba(0, 0, 0, 0.3));\n",
              "      fill: #FFFFFF;\n",
              "    }\n",
              "  </style>\n",
              "\n",
              "      <script>\n",
              "        const buttonEl =\n",
              "          document.querySelector('#df-a834a90c-b952-46e5-839b-556c591063c0 button.colab-df-convert');\n",
              "        buttonEl.style.display =\n",
              "          google.colab.kernel.accessAllowed ? 'block' : 'none';\n",
              "\n",
              "        async function convertToInteractive(key) {\n",
              "          const element = document.querySelector('#df-a834a90c-b952-46e5-839b-556c591063c0');\n",
              "          const dataTable =\n",
              "            await google.colab.kernel.invokeFunction('convertToInteractive',\n",
              "                                                     [key], {});\n",
              "          if (!dataTable) return;\n",
              "\n",
              "          const docLinkHtml = 'Like what you see? Visit the ' +\n",
              "            '<a target=\"_blank\" href=https://colab.research.google.com/notebooks/data_table.ipynb>data table notebook</a>'\n",
              "            + ' to learn more about interactive tables.';\n",
              "          element.innerHTML = '';\n",
              "          dataTable['output_type'] = 'display_data';\n",
              "          await google.colab.output.renderOutput(dataTable, element);\n",
              "          const docLink = document.createElement('div');\n",
              "          docLink.innerHTML = docLinkHtml;\n",
              "          element.appendChild(docLink);\n",
              "        }\n",
              "      </script>\n",
              "    </div>\n",
              "  </div>\n",
              "  "
            ]
          },
          "metadata": {},
          "execution_count": 153
        }
      ]
    },
    {
      "cell_type": "code",
      "source": [
        "import pandas as pd\n",
        "import matplotlib.pyplot as mp\n",
        "\n",
        "\n",
        "# plot multiple columns such as population and year from dataframe\n",
        "data.plot(x=\"States/UTs\", y=[\"Men age 15 years and above who consume alcohol (%)\", \"Area\"],\n",
        "\t\tkind=\"bar\", figsize=(15, 15))\n",
        "\n",
        "# display plot\n",
        "mp.show()\n"
      ],
      "metadata": {
        "colab": {
          "base_uri": "https://localhost:8080/",
          "height": 1000
        },
        "id": "RE7zW17kFhgw",
        "outputId": "27bc725f-4310-4d3b-9f6c-b732f0005d9d"
      },
      "execution_count": 170,
      "outputs": [
        {
          "output_type": "display_data",
          "data": {
            "text/plain": [
              "<Figure size 1080x1080 with 1 Axes>"
            ],
            "image/png": "[encoded data removed]"
          },
          "metadata": {
            "needs_background": "light"
          }
        }
      ]
    },
    {
      "cell_type": "code",
      "source": [],
      "metadata": {
        "id": "8640haZnl04E"
      },
      "execution_count": 114,
      "outputs": []
    },
    {
      "cell_type": "code",
      "source": [],
      "metadata": {
        "id": "qS9sFsebobel"
      },
      "execution_count": 143,
      "outputs": []
    },
    {
      "cell_type": "markdown",
      "source": [
        "URBAN VS RURAL"
      ],
      "metadata": {
        "id": "-Q3HivH1ob20"
      }
    },
    {
      "cell_type": "code",
      "source": [
        "# if(data[Area] == 'Urban' and data['Men age 15 years and above who consume alcohol (%)'] > data[Area] == 'Rural' and data['Men age 15 years and above who consume alcohol (%)]'):\n",
        "#   print(\"Urban\")\n",
        "# else:\n",
        "#   print(\"Rural'\")"
      ],
      "metadata": {
        "id": "QkO-FP3FofNM"
      },
      "execution_count": 106,
      "outputs": []
    },
    {
      "cell_type": "code",
      "source": [
        "# x = dict()\n",
        "# y = list()\n",
        "# y = data['States/UTs']\n",
        "\n",
        "# z = list()\n",
        "# z = data['Men age 15 years and above who consume alcohol (%)']\n",
        "\n",
        "\n",
        "# x = {str(data['States/UTs']) : str(data['Men age 15 years and above who consume alcohol (%)'])}"
      ],
      "metadata": {
        "id": "Q4e19TWFsVGq"
      },
      "execution_count": 107,
      "outputs": []
    },
    {
      "cell_type": "code",
      "source": [],
      "metadata": {
        "id": "WMIlLyFitWmi"
      },
      "execution_count": 107,
      "outputs": []
    },
    {
      "cell_type": "code",
      "source": [
        "df_urb = data[data.Area==\"Urban\"]\n",
        "df_urb.drop(['Area'],axis=1,inplace=True)\n",
        "df_rur = data[data.Area==\"Rural\"]\n",
        "df_rur.drop(['Area'],axis=1,inplace=True)"
      ],
      "metadata": {
        "id": "Fn4p3ql3tkiO",
        "colab": {
          "base_uri": "https://localhost:8080/"
        },
        "outputId": "b6f3a85a-e0bc-431b-8e81-41335550df67"
      },
      "execution_count": 193,
      "outputs": [
        {
          "output_type": "stream",
          "name": "stderr",
          "text": [
            "/usr/local/lib/python3.7/dist-packages/pandas/core/frame.py:4913: SettingWithCopyWarning:\n",
            "\n",
            "\n",
            "A value is trying to be set on a copy of a slice from a DataFrame\n",
            "\n",
            "See the caveats in the documentation: https://pandas.pydata.org/pandas-docs/stable/user_guide/indexing.html#returning-a-view-versus-a-copy\n",
            "\n"
          ]
        }
      ]
    },
    {
      "cell_type": "code",
      "source": [
        "# df_urb"
      ],
      "metadata": {
        "id": "5O851L0SvQqj"
      },
      "execution_count": 192,
      "outputs": []
    },
    {
      "cell_type": "code",
      "source": [
        "# df_rur\n"
      ],
      "metadata": {
        "id": "H_JxJuLqx0Ua"
      },
      "execution_count": 191,
      "outputs": []
    },
    {
      "cell_type": "code",
      "source": [],
      "metadata": {
        "id": "A673fgGo4h_S"
      },
      "execution_count": 190,
      "outputs": []
    },
    {
      "cell_type": "code",
      "source": [
        "data.col = data['States/UTs']"
      ],
      "metadata": {
        "id": "0mz4ttfpz0lg"
      },
      "execution_count": 194,
      "outputs": []
    },
    {
      "cell_type": "code",
      "source": [
        "x = list()\n",
        "x = data.col"
      ],
      "metadata": {
        "id": "DCuAPSWH0yOM"
      },
      "execution_count": 195,
      "outputs": []
    },
    {
      "cell_type": "code",
      "source": [
        "# x = list(set(x))\n",
        "print(x)"
      ],
      "metadata": {
        "colab": {
          "base_uri": "https://localhost:8080/"
        },
        "id": "TMAk-ida1X7G",
        "outputId": "a5df9445-d4d3-432a-8686-d7e716dcd52b"
      },
      "execution_count": 196,
      "outputs": [
        {
          "output_type": "stream",
          "name": "stdout",
          "text": [
            "0                          India\n",
            "1                          India\n",
            "3      Andaman & Nicobar Islands\n",
            "4      Andaman & Nicobar Islands\n",
            "6                 Andhra Pradesh\n",
            "                 ...            \n",
            "103                Uttar Pradesh\n",
            "105                  Uttarakhand\n",
            "106                  Uttarakhand\n",
            "108                  West Bengal\n",
            "109                  West Bengal\n",
            "Name: States/UTs, Length: 74, dtype: object\n"
          ]
        }
      ]
    },
    {
      "cell_type": "code",
      "source": [
        "y = df_urb['Men age 15 years and above who consume alcohol (%)']\n"
      ],
      "metadata": {
        "id": "cX-eNS_t26G9"
      },
      "execution_count": 199,
      "outputs": []
    },
    {
      "cell_type": "code",
      "source": [
        "y"
      ],
      "metadata": {
        "colab": {
          "base_uri": "https://localhost:8080/"
        },
        "id": "PMbLZiWjKbf9",
        "outputId": "a69ab960-0654-4abd-a003-2eb15d968b59"
      },
      "execution_count": 200,
      "outputs": [
        {
          "output_type": "execute_result",
          "data": {
            "text/plain": [
              "0      16.5\n",
              "3      33.8\n",
              "6      20.4\n",
              "9      44.3\n",
              "12     21.3\n",
              "15     14.0\n",
              "18     18.5\n",
              "21     28.6\n",
              "24     29.1\n",
              "27     38.2\n",
              "30      4.6\n",
              "33     15.7\n",
              "36     30.4\n",
              "39      7.7\n",
              "42     24.6\n",
              "45     15.3\n",
              "48     18.7\n",
              "51     21.1\n",
              "54      0.4\n",
              "57     13.2\n",
              "60     13.0\n",
              "63     34.6\n",
              "66     28.4\n",
              "69     22.8\n",
              "72     26.8\n",
              "75     21.6\n",
              "78     22.7\n",
              "81     26.7\n",
              "84     19.7\n",
              "87      9.3\n",
              "90     37.6\n",
              "93     21.5\n",
              "96     33.9\n",
              "99     26.9\n",
              "102    13.2\n",
              "105    21.7\n",
              "108    18.9\n",
              "Name: Men age 15 years and above who consume alcohol (%), dtype: float64"
            ]
          },
          "metadata": {},
          "execution_count": 200
        }
      ]
    },
    {
      "cell_type": "code",
      "source": [
        "z = df_rur['Men age 15 years and above who consume alcohol (%)']"
      ],
      "metadata": {
        "id": "fEX-EyQRKgrm"
      },
      "execution_count": 189,
      "outputs": []
    },
    {
      "cell_type": "code",
      "source": [
        "z"
      ],
      "metadata": {
        "colab": {
          "base_uri": "https://localhost:8080/"
        },
        "id": "pDBfi3fgK7aL",
        "outputId": "425ef7aa-dc8f-4f6f-c302-cd4d5a381bdd"
      },
      "execution_count": 190,
      "outputs": [
        {
          "output_type": "execute_result",
          "data": {
            "text/plain": [
              "1      19.9\n",
              "4      41.9\n",
              "7      24.5\n",
              "10     54.3\n",
              "13     25.9\n",
              "16     15.8\n",
              "19      0.1\n",
              "22     36.7\n",
              "25     26.5\n",
              "28     34.9\n",
              "31      6.8\n",
              "34     16.2\n",
              "37     32.1\n",
              "40      9.2\n",
              "43     38.7\n",
              "46     17.4\n",
              "49     21.0\n",
              "52     24.2\n",
              "55      0.5\n",
              "58     18.6\n",
              "61     14.7\n",
              "64     39.2\n",
              "67     33.5\n",
              "70     25.2\n",
              "73     22.5\n",
              "76     22.9\n",
              "79     30.2\n",
              "82     30.1\n",
              "85     24.8\n",
              "88     11.6\n",
              "91     41.1\n",
              "94     29.2\n",
              "97     49.0\n",
              "100    35.9\n",
              "103    15.1\n",
              "106    27.5\n",
              "109    17.7\n",
              "Name: Men age 15 years and above who consume alcohol (%), dtype: float64"
            ]
          },
          "metadata": {},
          "execution_count": 190
        }
      ]
    },
    {
      "cell_type": "code",
      "source": [
        "j = 0\n",
        "test = list()\n",
        "ucount = 0\n",
        "lcount = 0\n",
        "for i in range(0,109,3):\n",
        "  if(y[i]>z[i+1]):\n",
        "    print(x[i], \" - Urban\")\n",
        "    ucount += 1\n",
        "  else:\n",
        "    print(x[i], \" - Rural\")\n",
        "    lcount += 1"
      ],
      "metadata": {
        "colab": {
          "base_uri": "https://localhost:8080/"
        },
        "id": "-ZxhJh4mK721",
        "outputId": "b8447500-08d0-4225-dc91-b0b37d008b8e"
      },
      "execution_count": 214,
      "outputs": [
        {
          "output_type": "stream",
          "name": "stdout",
          "text": [
            "India  - Rural\n",
            "Andaman & Nicobar Islands  - Rural\n",
            "Andhra Pradesh  - Rural\n",
            "Arunachal Pradesh  - Rural\n",
            "Assam  - Rural\n",
            "Bihar  - Rural\n",
            "Chandigarh  - Urban\n",
            "Chhattisgarh  - Rural\n",
            "Dadra and Nagar Haveli & Daman and Diu  - Urban\n",
            "Goa  - Urban\n",
            "Gujarat  - Rural\n",
            "Haryana  - Rural\n",
            "Himachal Pradesh  - Rural\n",
            "Jammu & Kashmir  - Rural\n",
            "Jharkhand  - Rural\n",
            "Karnataka  - Rural\n",
            "Kerala  - Rural\n",
            "Ladakh  - Rural\n",
            "Lakshadweep  - Rural\n",
            "Madhya Pradesh  - Rural\n",
            "Maharastra  - Rural\n",
            "Manipur  - Rural\n",
            "Meghalaya  - Rural\n",
            "Mizoram  - Rural\n",
            "Nagaland  - Urban\n",
            "NCT of Delhi  - Rural\n",
            "Odisha  - Rural\n",
            "Puducherry  - Rural\n",
            "Punjab  - Rural\n",
            "Rajasthan  - Rural\n",
            "Sikkim  - Rural\n",
            "Tamil Nadu  - Rural\n",
            "Telangana  - Rural\n",
            "Tripura  - Rural\n",
            "Uttar Pradesh  - Rural\n",
            "Uttarakhand  - Rural\n",
            "West Bengal  - Urban\n"
          ]
        }
      ]
    },
    {
      "cell_type": "code",
      "source": [
        "print(\"Urban count = \", ucount)\n",
        "print(\"Rural count = \", lcount)"
      ],
      "metadata": {
        "colab": {
          "base_uri": "https://localhost:8080/"
        },
        "id": "E59uLtINMC1O",
        "outputId": "a746b183-dda0-41b2-eb19-54790399fa87"
      },
      "execution_count": 216,
      "outputs": [
        {
          "output_type": "stream",
          "name": "stdout",
          "text": [
            "Urban count =  5\n",
            "Rural count =  32\n"
          ]
        }
      ]
    },
    {
      "cell_type": "code",
      "source": [],
      "metadata": {
        "id": "AL9Sv0trPmMW"
      },
      "execution_count": null,
      "outputs": []
    },
    {
      "cell_type": "markdown",
      "source": [
        "CONCLUSION"
      ],
      "metadata": {
        "id": "UEJ4OLD8QOaN"
      }
    },
    {
      "cell_type": "markdown",
      "source": [
        "**It can be inferred that the number of cases are higher in RURAL AREAS!**"
      ],
      "metadata": {
        "id": "wahSCzwaQFa8"
      }
    },
    {
      "cell_type": "code",
      "source": [],
      "metadata": {
        "id": "tlZ7baI8QME0"
      },
      "execution_count": null,
      "outputs": []
    }
  ]
}